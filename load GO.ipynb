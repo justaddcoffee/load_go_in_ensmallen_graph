{
 "cells": [
  {
   "cell_type": "code",
   "execution_count": 1,
   "metadata": {},
   "outputs": [],
   "source": [
    "from ensmallen_graph import EnsmallenGraph"
   ]
  },
  {
   "cell_type": "code",
   "execution_count": 40,
   "metadata": {},
   "outputs": [],
   "source": [
    "go = EnsmallenGraph.from_csv(directed=False,\n",
    "                        # node_path=\"go.tsv_nodes.tsv\",\n",
    "                        edge_path=\"go.tsv_edges.tsv\",\n",
    "                        nodes_column=\"id\", \n",
    "                        edge_list_edge_types_column=\"predicate\")"
   ]
  },
  {
   "cell_type": "code",
   "execution_count": 19,
   "metadata": {},
   "outputs": [
    {
     "data": {
      "text/html": [
       "<p>The undirected graph has 133824 nodes and 89906 edges.</p><h3>RAM requirements</h3><p>The RAM requirements for the nodes and edges data structures are 51.39MB and 441.31KB respectively.</p><h3>Degree centrality</h3><p>The minimum node degree is 1, the maximum node degree is 14, the mode degree is 1, the mean degree is 1.34 and the node degree median is 1.</p><p>The nodes with highest degree centrality are: <a href='http://amigo.geneontology.org/amigo/term/GO:0045122' target='_blank' title='Go to Gene Ontology to get more informations about GO:0045122'>GO:0045122</a> (degree 14), <a href='http://amigo.geneontology.org/amigo/term/GO:2001310' target='_blank' title='Go to Gene Ontology to get more informations about GO:2001310'>GO:2001310</a> (degree 11), <a href='http://amigo.geneontology.org/amigo/term/GO:0061722' target='_blank' title='Go to Gene Ontology to get more informations about GO:0061722'>GO:0061722</a> (degree 10), <a href='http://amigo.geneontology.org/amigo/term/GO:0032324' target='_blank' title='Go to Gene Ontology to get more informations about GO:0032324'>GO:0032324</a> (degree 10) and <a href='http://amigo.geneontology.org/amigo/term/GO:0140380' target='_blank' title='Go to Gene Ontology to get more informations about GO:0140380'>GO:0140380</a> (degree 9).</p>"
      ],
      "text/plain": [
       "<p>The undirected graph has 133824 nodes and 89906 edges.</p><h3>RAM requirements</h3><p>The RAM requirements for the nodes and edges data structures are 51.39MB and 441.31KB respectively.</p><h3>Degree centrality</h3><p>The minimum node degree is 1, the maximum node degree is 14, the mode degree is 1, the mean degree is 1.34 and the node degree median is 1.</p><p>The nodes with highest degree centrality are: <a href='http://amigo.geneontology.org/amigo/term/GO:0045122' target='_blank' title='Go to Gene Ontology to get more informations about GO:0045122'>GO:0045122</a> (degree 14), <a href='http://amigo.geneontology.org/amigo/term/GO:2001310' target='_blank' title='Go to Gene Ontology to get more informations about GO:2001310'>GO:2001310</a> (degree 11), <a href='http://amigo.geneontology.org/amigo/term/GO:0061722' target='_blank' title='Go to Gene Ontology to get more informations about GO:0061722'>GO:0061722</a> (degree 10), <a href='http://amigo.geneontology.org/amigo/term/GO:0032324' target='_blank' title='Go to Gene Ontology to get more informations about GO:0032324'>GO:0032324</a> (degree 10) and <a href='http://amigo.geneontology.org/amigo/term/GO:0140380' target='_blank' title='Go to Gene Ontology to get more informations about GO:0140380'>GO:0140380</a> (degree 9).</p>"
      ]
     },
     "execution_count": 19,
     "metadata": {},
     "output_type": "execute_result"
    }
   ],
   "source": [
    "go"
   ]
  },
  {
   "cell_type": "code",
   "execution_count": 20,
   "metadata": {},
   "outputs": [
    {
     "data": {
      "text/plain": [
       "133824"
      ]
     },
     "execution_count": 20,
     "metadata": {},
     "output_type": "execute_result"
    }
   ],
   "source": [
    "go.get_nodes_number()"
   ]
  },
  {
   "cell_type": "code",
   "execution_count": 21,
   "metadata": {},
   "outputs": [
    {
     "data": {
      "text/plain": [
       "2.0"
      ]
     },
     "execution_count": 21,
     "metadata": {},
     "output_type": "execute_result"
    }
   ],
   "source": [
    "go.get_diameter(ignore_infinity=True)"
   ]
  },
  {
   "cell_type": "code",
   "execution_count": 25,
   "metadata": {},
   "outputs": [
    {
     "data": {
      "text/html": [
       "<p>The undirected graph has 133824 nodes and 89906 edges.</p><h3>RAM requirements</h3><p>The RAM requirements for the nodes and edges data structures are 51.39MB and 441.31KB respectively.</p><h3>Degree centrality</h3><p>The minimum node degree is 1, the maximum node degree is 14, the mode degree is 1, the mean degree is 1.34 and the node degree median is 1.</p><p>The nodes with highest degree centrality are: <a href='http://amigo.geneontology.org/amigo/term/GO:0045122' target='_blank' title='Go to Gene Ontology to get more informations about GO:0045122'>GO:0045122</a> (degree 14), <a href='http://amigo.geneontology.org/amigo/term/GO:2001310' target='_blank' title='Go to Gene Ontology to get more informations about GO:2001310'>GO:2001310</a> (degree 11), <a href='http://amigo.geneontology.org/amigo/term/GO:0061722' target='_blank' title='Go to Gene Ontology to get more informations about GO:0061722'>GO:0061722</a> (degree 10), <a href='http://amigo.geneontology.org/amigo/term/GO:0032324' target='_blank' title='Go to Gene Ontology to get more informations about GO:0032324'>GO:0032324</a> (degree 10) and <a href='http://amigo.geneontology.org/amigo/term/GO:0140380' target='_blank' title='Go to Gene Ontology to get more informations about GO:0140380'>GO:0140380</a> (degree 9).</p>"
      ],
      "text/plain": [
       "<p>The undirected graph has 133824 nodes and 89906 edges.</p><h3>RAM requirements</h3><p>The RAM requirements for the nodes and edges data structures are 51.39MB and 441.31KB respectively.</p><h3>Degree centrality</h3><p>The minimum node degree is 1, the maximum node degree is 14, the mode degree is 1, the mean degree is 1.34 and the node degree median is 1.</p><p>The nodes with highest degree centrality are: <a href='http://amigo.geneontology.org/amigo/term/GO:0045122' target='_blank' title='Go to Gene Ontology to get more informations about GO:0045122'>GO:0045122</a> (degree 14), <a href='http://amigo.geneontology.org/amigo/term/GO:2001310' target='_blank' title='Go to Gene Ontology to get more informations about GO:2001310'>GO:2001310</a> (degree 11), <a href='http://amigo.geneontology.org/amigo/term/GO:0061722' target='_blank' title='Go to Gene Ontology to get more informations about GO:0061722'>GO:0061722</a> (degree 10), <a href='http://amigo.geneontology.org/amigo/term/GO:0032324' target='_blank' title='Go to Gene Ontology to get more informations about GO:0032324'>GO:0032324</a> (degree 10) and <a href='http://amigo.geneontology.org/amigo/term/GO:0140380' target='_blank' title='Go to Gene Ontology to get more informations about GO:0140380'>GO:0140380</a> (degree 9).</p>"
      ]
     },
     "execution_count": 25,
     "metadata": {},
     "output_type": "execute_result"
    }
   ],
   "source": [
    "go"
   ]
  },
  {
   "cell_type": "code",
   "execution_count": 26,
   "metadata": {},
   "outputs": [
    {
     "data": {
      "text/plain": [
       "array([1, 3, 1, ..., 1, 1, 1], dtype=uint32)"
      ]
     },
     "execution_count": 26,
     "metadata": {},
     "output_type": "execute_result"
    }
   ],
   "source": [
    "go.get_node_degrees()"
   ]
  },
  {
   "cell_type": "code",
   "execution_count": 28,
   "metadata": {},
   "outputs": [
    {
     "ename": "AttributeError",
     "evalue": "The method 'get_neighbors' does not exists, did you mean one of the following?\n* 'get_neighbour_node_ids_from_node_name'\n* 'get_neighbour_node_ids_from_node_id'\n* 'get_neighbour_node_names_from_node_name'",
     "output_type": "error",
     "traceback": [
      "\u001b[0;31m---------------------------------------------------------------------------\u001b[0m",
      "\u001b[0;31mAttributeError\u001b[0m                            Traceback (most recent call last)",
      "\u001b[0;32m<ipython-input-28-b156ff6eb89c>\u001b[0m in \u001b[0;36m<module>\u001b[0;34m\u001b[0m\n\u001b[0;32m----> 1\u001b[0;31m \u001b[0mgo\u001b[0m\u001b[0;34m.\u001b[0m\u001b[0mget_neighbors\u001b[0m\u001b[0;34m(\u001b[0m\u001b[0;34m)\u001b[0m\u001b[0;34m\u001b[0m\u001b[0;34m\u001b[0m\u001b[0m\n\u001b[0m",
      "\u001b[0;31mAttributeError\u001b[0m: The method 'get_neighbors' does not exists, did you mean one of the following?\n* 'get_neighbour_node_ids_from_node_name'\n* 'get_neighbour_node_ids_from_node_id'\n* 'get_neighbour_node_names_from_node_name'"
     ]
    }
   ],
   "source": [
    "go.get_neighbors()"
   ]
  },
  {
   "cell_type": "code",
   "execution_count": 47,
   "metadata": {},
   "outputs": [
    {
     "data": {
      "text/plain": [
       "['urn:uuid:2eecc03e-804a-4324-ac8b-fbc1594e28e0',\n",
       " 'urn:uuid:f0d07f9f-16f5-4833-be2d-e5744f4c5eed',\n",
       " 'urn:uuid:3e5b75dd-0018-4416-914e-756290827d28',\n",
       " 'urn:uuid:5d6c8538-f0ca-40a2-8b60-5d64f3315261',\n",
       " 'urn:uuid:bee73e2a-fbc2-42af-af78-6a71fea96189']"
      ]
     },
     "execution_count": 47,
     "metadata": {},
     "output_type": "execute_result"
    }
   ],
   "source": [
    "[\n",
    "    dst for dst in go.get_neighbour_node_names_from_node_name(\"GO:2001310\") \n",
    "    if go.get_edge_type_name_from_edge_id(go.get_edge_id_from_node_names(\"GO:2001310\", dst)) == \"biolink:has_part\"\n",
    "]"
   ]
  },
  {
   "cell_type": "code",
   "execution_count": 43,
   "metadata": {},
   "outputs": [
    {
     "data": {
      "text/plain": [
       "['biolink:occurs_in',\n",
       " 'biolink:related_to',\n",
       " 'biolink:part_of',\n",
       " 'biolink:subclass_of',\n",
       " 'biolink:has_part',\n",
       " 'biolink:subPropertyOf',\n",
       " 'biolink:inverseOf']"
      ]
     },
     "execution_count": 43,
     "metadata": {},
     "output_type": "execute_result"
    }
   ],
   "source": [
    "go.get_unique_edge_type_names()"
   ]
  }
 ],
 "metadata": {
  "kernelspec": {
   "display_name": "Python 3",
   "language": "python",
   "name": "python3"
  },
  "language_info": {
   "codemirror_mode": {
    "name": "ipython",
    "version": 3
   },
   "file_extension": ".py",
   "mimetype": "text/x-python",
   "name": "python",
   "nbconvert_exporter": "python",
   "pygments_lexer": "ipython3",
   "version": "3.7.9"
  }
 },
 "nbformat": 4,
 "nbformat_minor": 4
}
